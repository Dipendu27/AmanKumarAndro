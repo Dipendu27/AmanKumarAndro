{
  "nbformat": 4,
  "nbformat_minor": 0,
  "metadata": {
    "colab": {
      "provenance": [],
      "authorship_tag": "ABX9TyMUKkGW2lsewsEzXUvzDKqg",
      "include_colab_link": true
    },
    "kernelspec": {
      "name": "python3",
      "display_name": "Python 3"
    },
    "language_info": {
      "name": "python"
    }
  },
  "cells": [
    {
      "cell_type": "markdown",
      "metadata": {
        "id": "view-in-github",
        "colab_type": "text"
      },
      "source": [
        "<a href=\"https://colab.research.google.com/github/Dipendu27/AmanKumarAndro/blob/main/DAA_Lab_4th_sem.ipynb\" target=\"_parent\"><img src=\"https://colab.research.google.com/assets/colab-badge.svg\" alt=\"Open In Colab\"/></a>"
      ]
    },
    {
      "cell_type": "markdown",
      "source": [
        "### **lab 1 dated : 25-01-2023**"
      ],
      "metadata": {
        "id": "GUMweRFBbvmp"
      }
    },
    {
      "cell_type": "markdown",
      "source": [
        "Q1) Import 300 random variables then sort them and apply binary search to find if a element is present or not. And analyse the code."
      ],
      "metadata": {
        "id": "B1efcBRygZfA"
      }
    },
    {
      "cell_type": "code",
      "execution_count": null,
      "metadata": {
        "colab": {
          "base_uri": "https://localhost:8080/"
        },
        "id": "K_Zm2gHeWT9R",
        "outputId": "eab78b81-bdfe-4cd3-ab4f-184677818bb0"
      },
      "outputs": [
        {
          "output_type": "stream",
          "name": "stdout",
          "text": [
            "[575, 496, 729, 840, 395, 850, 645, 205, 881, 415, 528, 2, 480, 49, 382, 510, 326, 650, 444, 454, 671, 359, 393, 550, 386, 860, 901, 999, 852, 29, 161, 774, 116, 330, 412, 502, 132, 37, 815, 984, 656, 749, 317, 846, 162, 53, 647, 69, 490, 133, 661, 816, 798, 580, 456, 95, 933, 77, 111, 343, 741, 954, 827, 835, 249, 410, 136, 872, 443, 959, 944, 38, 727, 139, 581, 307, 350, 288, 293, 121, 844, 20, 286, 108, 836, 782, 464, 184, 734, 703, 253, 506, 967, 450, 507, 565, 535, 509, 175, 764, 714, 284, 884, 685, 725, 624, 474, 591, 957, 48, 246, 777, 620, 670, 792, 218, 397, 64, 755, 597, 531, 735, 707, 237, 235, 275, 112, 457, 215, 332, 601, 198, 669, 189, 553, 409, 186, 23, 748, 306, 304, 96, 103, 436, 858, 276, 951, 704, 829, 451, 708, 230, 530, 422, 849, 519, 949, 759, 432, 631, 399, 9, 806, 468, 339, 912, 442, 156, 547, 160, 596, 234, 191, 172, 672, 274, 929, 622, 742, 356, 239, 823, 986, 500, 678, 543, 801, 757, 618, 390, 232, 429, 478, 106, 73, 756, 347, 311, 337, 711, 870, 388, 165, 522, 110, 448, 919, 893, 194, 660, 318, 281, 552, 539, 243, 717, 233, 950, 634, 889, 68, 460, 722, 66, 854, 174, 626, 690, 368, 831, 46, 213, 567, 888, 251, 328, 845, 937, 632, 355, 221, 364, 244, 754, 916, 300, 92, 497, 219, 934, 489, 60, 85, 266, 625, 926, 348, 761, 340, 651, 571, 760, 34, 808, 114, 201, 683, 876, 861, 159, 142, 143, 166, 369, 843, 688, 665, 914, 767, 545, 520, 598, 296, 82, 151, 479, 694, 86, 723, 964, 676, 81, 640, 491, 750, 630, 809, 745, 819, 935]\n"
          ]
        }
      ],
      "source": [
        "import random\n",
        "\n",
        "random_numbers = random.sample(range(1, 1001), 300)\n",
        "print(random_numbers)"
      ]
    },
    {
      "cell_type": "code",
      "source": [
        "def bubblesort(a):\n",
        "  for i in range(len(a)):\n",
        "    for j in range(0, len(a)-1-i):\n",
        "      if a[j]>a[j+1]:\n",
        "        (a[j],a[j+1]) = (a[j+1],a[j])\n",
        "  return a"
      ],
      "metadata": {
        "id": "v2UzDrPiWwIg"
      },
      "execution_count": null,
      "outputs": []
    },
    {
      "cell_type": "code",
      "source": [
        "arr = bubblesort(random_numbers)\n",
        "print(arr)"
      ],
      "metadata": {
        "colab": {
          "base_uri": "https://localhost:8080/"
        },
        "id": "XFTXYcuLZkf6",
        "outputId": "8c5b7d15-e825-49ba-e4f7-ecb62774ac4f"
      },
      "execution_count": null,
      "outputs": [
        {
          "output_type": "stream",
          "name": "stdout",
          "text": [
            "[2, 9, 20, 23, 29, 34, 37, 38, 46, 48, 49, 53, 60, 64, 66, 68, 69, 73, 77, 81, 82, 85, 86, 92, 95, 96, 103, 106, 108, 110, 111, 112, 114, 116, 121, 132, 133, 136, 139, 142, 143, 151, 156, 159, 160, 161, 162, 165, 166, 172, 174, 175, 184, 186, 189, 191, 194, 198, 201, 205, 213, 215, 218, 219, 221, 230, 232, 233, 234, 235, 237, 239, 243, 244, 246, 249, 251, 253, 266, 274, 275, 276, 281, 284, 286, 288, 293, 296, 300, 304, 306, 307, 311, 317, 318, 326, 328, 330, 332, 337, 339, 340, 343, 347, 348, 350, 355, 356, 359, 364, 368, 369, 382, 386, 388, 390, 393, 395, 397, 399, 409, 410, 412, 415, 422, 429, 432, 436, 442, 443, 444, 448, 450, 451, 454, 456, 457, 460, 464, 468, 474, 478, 479, 480, 489, 490, 491, 496, 497, 500, 502, 506, 507, 509, 510, 519, 520, 522, 528, 530, 531, 535, 539, 543, 545, 547, 550, 552, 553, 565, 567, 571, 575, 580, 581, 591, 596, 597, 598, 601, 618, 620, 622, 624, 625, 626, 630, 631, 632, 634, 640, 645, 647, 650, 651, 656, 660, 661, 665, 669, 670, 671, 672, 676, 678, 683, 685, 688, 690, 694, 703, 704, 707, 708, 711, 714, 717, 722, 723, 725, 727, 729, 734, 735, 741, 742, 745, 748, 749, 750, 754, 755, 756, 757, 759, 760, 761, 764, 767, 774, 777, 782, 792, 798, 801, 806, 808, 809, 815, 816, 819, 823, 827, 829, 831, 835, 836, 840, 843, 844, 845, 846, 849, 850, 852, 854, 858, 860, 861, 870, 872, 876, 881, 884, 888, 889, 893, 901, 912, 914, 916, 919, 926, 929, 933, 934, 935, 937, 944, 949, 950, 951, 954, 957, 959, 964, 967, 984, 986, 999]\n"
          ]
        }
      ]
    },
    {
      "cell_type": "code",
      "source": [
        "def binary_search(arr, x):\n",
        "    low = 0\n",
        "    high = len(arr) - 1\n",
        "    mid = 0\n",
        "\n",
        "    while low <= high:\n",
        "\n",
        "        mid = (high + low) // 2\n",
        "\n",
        "        if arr[mid] < x:\n",
        "            low = mid + 1\n",
        "\n",
        "        elif arr[mid] > x:\n",
        "            high = mid - 1\n",
        "\n",
        "        else:\n",
        "            return mid\n",
        "\n",
        "    return -1"
      ],
      "metadata": {
        "id": "cUaSI5C1ZvBc"
      },
      "execution_count": null,
      "outputs": []
    },
    {
      "cell_type": "code",
      "source": [
        "binary_search(arr, 37)"
      ],
      "metadata": {
        "colab": {
          "base_uri": "https://localhost:8080/"
        },
        "id": "PbUK5bc_ellg",
        "outputId": "bd86d581-9238-4e2d-b13b-e5632ad00b06"
      },
      "execution_count": null,
      "outputs": [
        {
          "output_type": "execute_result",
          "data": {
            "text/plain": [
              "6"
            ]
          },
          "metadata": {},
          "execution_count": 5
        }
      ]
    },
    {
      "cell_type": "code",
      "source": [
        "binary_search(arr, 22)"
      ],
      "metadata": {
        "id": "cc78eqlNU2Uo",
        "outputId": "201e63cc-6d3c-450f-9a3c-4a2be2979374",
        "colab": {
          "base_uri": "https://localhost:8080/"
        }
      },
      "execution_count": null,
      "outputs": [
        {
          "output_type": "execute_result",
          "data": {
            "text/plain": [
              "-1"
            ]
          },
          "metadata": {},
          "execution_count": 6
        }
      ]
    },
    {
      "cell_type": "markdown",
      "source": [
        "### **lab 2 dated : 06-02-2023**"
      ],
      "metadata": {
        "id": "k_5Ttr8DZsiK"
      }
    },
    {
      "cell_type": "markdown",
      "source": [
        "Q2) Apply merge sort on random variables then divide the merge sort into three parts."
      ],
      "metadata": {
        "id": "4hxG5o2yZ_Bd"
      }
    },
    {
      "cell_type": "code",
      "source": [
        "import random\n",
        "\n",
        "random_numbers1 = random.sample(range(1, 1001), 100)\n",
        "print(random_numbers1)"
      ],
      "metadata": {
        "colab": {
          "base_uri": "https://localhost:8080/"
        },
        "id": "8PUAcboBZ4ob",
        "outputId": "0c364578-2386-422f-e6bc-a67d08d74892"
      },
      "execution_count": null,
      "outputs": [
        {
          "output_type": "stream",
          "name": "stdout",
          "text": [
            "[68, 99, 627, 151, 220, 181, 441, 529, 849, 298, 770, 321, 376, 364, 4, 604, 431, 574, 934, 528, 222, 384, 311, 135, 452, 535, 702, 953, 324, 179, 125, 399, 614, 907, 566, 632, 936, 486, 54, 251, 879, 499, 1000, 896, 532, 229, 740, 842, 380, 796, 703, 304, 537, 868, 726, 891, 506, 137, 887, 972, 808, 705, 337, 807, 279, 200, 992, 215, 274, 295, 833, 202, 370, 327, 234, 947, 271, 991, 278, 750, 48, 269, 302, 209, 485, 761, 805, 922, 409, 268, 192, 445, 70, 580, 425, 570, 227, 110, 576, 65]\n"
          ]
        }
      ]
    },
    {
      "cell_type": "code",
      "source": [
        "def merge_sort(arr):\n",
        "    if len(arr) > 1:\n",
        "        mid = len(arr)//2\n",
        "        left = arr[:mid]\n",
        "        right = arr[mid:]\n",
        "\n",
        "        merge_sort(left)\n",
        "        merge_sort(right)\n",
        "\n",
        "        i = j = k = 0\n",
        "\n",
        "        while i < len(left) and j < len(right):\n",
        "            if left[i] < right[j]:\n",
        "                arr[k] = left[i]\n",
        "                i += 1\n",
        "            else:\n",
        "                arr[k] = right[j]\n",
        "                j += 1\n",
        "            k += 1\n",
        "\n",
        "        while i < len(left):\n",
        "            arr[k] = left[i]\n",
        "            i += 1\n",
        "            k += 1\n",
        "\n",
        "        while j < len(right):\n",
        "            arr[k] = right[j]\n",
        "            j += 1\n",
        "            k += 1\n",
        "\n",
        "    return arr"
      ],
      "metadata": {
        "id": "5wYG5CcWbWCG"
      },
      "execution_count": null,
      "outputs": []
    },
    {
      "cell_type": "code",
      "source": [
        "merge_sort(random_numbers1)"
      ],
      "metadata": {
        "colab": {
          "base_uri": "https://localhost:8080/"
        },
        "id": "3HQf7M0Vds6i",
        "outputId": "81b7c381-806e-4319-9450-d8c0749191e9"
      },
      "execution_count": null,
      "outputs": [
        {
          "output_type": "execute_result",
          "data": {
            "text/plain": [
              "[4,\n",
              " 48,\n",
              " 54,\n",
              " 65,\n",
              " 68,\n",
              " 70,\n",
              " 99,\n",
              " 110,\n",
              " 125,\n",
              " 135,\n",
              " 137,\n",
              " 151,\n",
              " 179,\n",
              " 181,\n",
              " 192,\n",
              " 200,\n",
              " 202,\n",
              " 209,\n",
              " 215,\n",
              " 220,\n",
              " 222,\n",
              " 227,\n",
              " 229,\n",
              " 234,\n",
              " 251,\n",
              " 268,\n",
              " 269,\n",
              " 271,\n",
              " 274,\n",
              " 278,\n",
              " 279,\n",
              " 295,\n",
              " 298,\n",
              " 302,\n",
              " 304,\n",
              " 311,\n",
              " 321,\n",
              " 324,\n",
              " 327,\n",
              " 337,\n",
              " 364,\n",
              " 370,\n",
              " 376,\n",
              " 380,\n",
              " 384,\n",
              " 399,\n",
              " 409,\n",
              " 425,\n",
              " 431,\n",
              " 441,\n",
              " 445,\n",
              " 452,\n",
              " 485,\n",
              " 486,\n",
              " 499,\n",
              " 506,\n",
              " 528,\n",
              " 529,\n",
              " 532,\n",
              " 535,\n",
              " 537,\n",
              " 566,\n",
              " 570,\n",
              " 574,\n",
              " 576,\n",
              " 580,\n",
              " 604,\n",
              " 614,\n",
              " 627,\n",
              " 632,\n",
              " 702,\n",
              " 703,\n",
              " 705,\n",
              " 726,\n",
              " 740,\n",
              " 750,\n",
              " 761,\n",
              " 770,\n",
              " 796,\n",
              " 805,\n",
              " 807,\n",
              " 808,\n",
              " 833,\n",
              " 842,\n",
              " 849,\n",
              " 868,\n",
              " 879,\n",
              " 887,\n",
              " 891,\n",
              " 896,\n",
              " 907,\n",
              " 922,\n",
              " 934,\n",
              " 936,\n",
              " 947,\n",
              " 953,\n",
              " 972,\n",
              " 991,\n",
              " 992,\n",
              " 1000]"
            ]
          },
          "metadata": {},
          "execution_count": 9
        }
      ]
    },
    {
      "cell_type": "markdown",
      "source": [
        "Q3) 3arrays are given. Apply mergesort on them and add them in a sorted way."
      ],
      "metadata": {
        "id": "8jxk86KsvSkc"
      }
    },
    {
      "cell_type": "code",
      "source": [
        "def merge_sort(arr):\n",
        "    if len(arr) > 1:\n",
        "        mid = len(arr)//2\n",
        "        left = arr[:mid]\n",
        "        right = arr[mid:]\n",
        "\n",
        "        merge_sort(left)\n",
        "        merge_sort(right)\n",
        "\n",
        "        i = j = k = 0\n",
        "\n",
        "        while i < len(left) and j < len(right):\n",
        "            if left[i] < right[j]:\n",
        "                arr[k] = left[i]\n",
        "                i += 1\n",
        "            else:\n",
        "                arr[k] = right[j]\n",
        "                j += 1\n",
        "            k += 1\n",
        "\n",
        "        while i < len(left):\n",
        "            arr[k] = left[i]\n",
        "            i += 1\n",
        "            k += 1\n",
        "\n",
        "        while j < len(right):\n",
        "            arr[k] = right[j]\n",
        "            j += 1\n",
        "            k += 1\n",
        "\n",
        "    return arr\n",
        "\n",
        "def merge_three_arrays(arr1, arr2, arr3):\n",
        "    arr1 = merge_sort(arr1)\n",
        "    arr2 = merge_sort(arr2)\n",
        "    arr3 = merge_sort(arr3)\n",
        "\n",
        "    i = j = k = 0\n",
        "    result = []\n",
        "\n",
        "    while i < len(arr1) and j < len(arr2) and k < len(arr3):\n",
        "        if arr1[i] < arr2[j] and arr1[i] < arr3[k]:\n",
        "            result.append(arr1[i])\n",
        "            i += 1\n",
        "        elif arr2[j] < arr1[i] and arr2[j] < arr3[k]:\n",
        "            result.append(arr2[j])\n",
        "            j += 1\n",
        "        else:\n",
        "            result.append(arr3[k])\n",
        "            k += 1\n",
        "\n",
        "    while i < len(arr1) and j < len(arr2):\n",
        "        if arr1[i] < arr2[j]:\n",
        "            result.append(arr1[i])\n",
        "            i += 1\n",
        "        else:\n",
        "            result.append(arr2[j])\n",
        "            j += 1\n",
        "\n",
        "    while j < len(arr2) and k < len(arr3):\n",
        "        if arr2[j] < arr3[k]:\n",
        "            result.append(arr2[j])\n",
        "            j += 1\n",
        "        else:\n",
        "            result.append(arr3[k])\n",
        "            k += 1\n",
        "\n",
        "    while i < len(arr1) and k < len(arr3):\n",
        "        if arr1[i] < arr3[k]:\n",
        "            result.append(arr1[i])\n",
        "            i += 1\n",
        "        else:\n",
        "            result.append(arr3[k])\n",
        "            k += 1\n",
        "\n",
        "    while i < len(arr1):\n",
        "        result.append(arr1[i])\n",
        "        i += 1\n",
        "\n",
        "    while j < len(arr2):\n",
        "        result.append(arr2[j])\n",
        "        j += 1\n",
        "\n",
        "    while k < len(arr3):\n",
        "        result.append(arr3[k])\n",
        "        k += 1\n",
        "\n",
        "    return result\n"
      ],
      "metadata": {
        "id": "g6kjsSwivpJj"
      },
      "execution_count": 1,
      "outputs": []
    },
    {
      "cell_type": "code",
      "source": [
        "arr1 = [3, 5, 8, 12, 18, 20]\n",
        "arr2 = [2, 6, 7, 9, 15]\n",
        "arr3 = [1, 4, 10, 11, 13, 16]\n",
        "\n",
        "result = merge_three_arrays(arr1, arr2, arr3)\n",
        "\n",
        "print(result)"
      ],
      "metadata": {
        "colab": {
          "base_uri": "https://localhost:8080/"
        },
        "id": "pEVQTyHE1ieN",
        "outputId": "f96a6178-f9e1-4bc4-8b3b-ff5761493c20"
      },
      "execution_count": 2,
      "outputs": [
        {
          "output_type": "stream",
          "name": "stdout",
          "text": [
            "[1, 2, 3, 4, 5, 6, 7, 8, 9, 10, 11, 12, 13, 15, 16, 18, 20]\n"
          ]
        }
      ]
    },
    {
      "cell_type": "markdown",
      "source": [
        "Q4. knapsnak problem with greedy aproach."
      ],
      "metadata": {
        "id": "5jK9YcY5EoF5"
      }
    },
    {
      "cell_type": "code",
      "source": [
        "def fractional_knapsack(values, weights, capacity):\n",
        "    ratios = [v / w for v, w in zip(values, weights)]\n",
        "\n",
        "    items = sorted(zip(ratios, values, weights), reverse=True)\n",
        "\n",
        "    total_value = 0\n",
        "    remaining_capacity = capacity\n",
        "\n",
        "    for ratio, value, weight in items:\n",
        "        if weight <= remaining_capacity:\n",
        "            total_value += value\n",
        "            remaining_capacity -= weight\n",
        "        else:\n",
        "            fraction = remaining_capacity / weight\n",
        "            total_value += fraction * value\n",
        "            remaining_capacity = 0\n",
        "            break\n",
        "\n",
        "    return total_value"
      ],
      "metadata": {
        "id": "T9mIcr60EVzJ"
      },
      "execution_count": 3,
      "outputs": []
    },
    {
      "cell_type": "code",
      "source": [
        "values = [10, 5, 15, 7, 6, 18, 3]\n",
        "weights = [2, 3, 5, 7, 1, 4, 1]\n",
        "capacity = 15\n",
        "\n",
        "total_value = fractional_knapsack(values, weights, capacity)\n",
        "\n",
        "print(\"Maximum value that can be obtained:\", total_value)"
      ],
      "metadata": {
        "colab": {
          "base_uri": "https://localhost:8080/"
        },
        "id": "B4zZx1V112v1",
        "outputId": "f9d8375e-85fd-4c1d-c273-a8a42664b7e1"
      },
      "execution_count": 4,
      "outputs": [
        {
          "output_type": "stream",
          "name": "stdout",
          "text": [
            "Maximum value that can be obtained: 55.333333333333336\n"
          ]
        }
      ]
    },
    {
      "cell_type": "markdown",
      "source": [
        "Q5. Activity selection problem."
      ],
      "metadata": {
        "id": "c3xzto-qzwHg"
      }
    },
    {
      "cell_type": "code",
      "source": [
        "def activity_selection(start, end):\n",
        "    n = len(end)\n",
        "    activities = []\n",
        "    i = 0\n",
        "    activities.append(i)\n",
        "    for j in range(1, n):\n",
        "        if start[j] >= end[i]:\n",
        "            activities.append(j)\n",
        "            i = j\n",
        "    return activities"
      ],
      "metadata": {
        "id": "9JgwV7fizvlP"
      },
      "execution_count": null,
      "outputs": []
    },
    {
      "cell_type": "code",
      "source": [
        "start = [1, 3, 0, 5, 8, 5]\n",
        "end = [2, 4, 6, 7, 9, 9]\n",
        "activities = activity_selection(start, end)\n",
        "print(activities)"
      ],
      "metadata": {
        "colab": {
          "base_uri": "https://localhost:8080/"
        },
        "id": "Bhwv_zM41CJW",
        "outputId": "085b07f9-a19d-44cd-b7f8-adecc8a8443c"
      },
      "execution_count": null,
      "outputs": [
        {
          "output_type": "stream",
          "name": "stdout",
          "text": [
            "[0, 1, 3, 4]\n"
          ]
        }
      ]
    },
    {
      "cell_type": "markdown",
      "source": [
        "Q5. job scheduling with deadline(MID SEM 1 - Q6)"
      ],
      "metadata": {
        "id": "uyS7OzuZI9lb"
      }
    },
    {
      "cell_type": "markdown",
      "source": [
        "![WhatsApp Image 2023-02-20 at 14.51.24.jpg](data:image/jpeg;base64,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)"
      ],
      "metadata": {
        "id": "UQKRrRE3dK4M"
      }
    },
    {
      "cell_type": "code",
      "source": [
        "def job_schedule_deadline(jobs):\n",
        "    jobs = sorted(jobs, key=lambda x: x[2], reverse=True)\n",
        "\n",
        "    max_deadline = max(jobs, key=lambda x: x[1])[1]\n",
        "    \n",
        "    time_slots = [False] * max_deadline\n",
        "    \n",
        "    total_profit = 0\n",
        "    scheduled_jobs = []\n",
        "    \n",
        "    for job in jobs:\n",
        "        latest_time_slot = job[1] - 1\n",
        "        \n",
        "        while latest_time_slot >= 0 and time_slots[latest_time_slot]:\n",
        "            latest_time_slot -= 1\n",
        "\n",
        "        if latest_time_slot >= 0:\n",
        "            time_slots[latest_time_slot] = True\n",
        "            total_profit += job[2]\n",
        "            scheduled_jobs.append(job[0])\n",
        "    \n",
        "    print(\"Scheduled jobs:\", scheduled_jobs)\n",
        "    print(\"Total profit:\", total_profit)\n",
        "    \n",
        "    return total_profit"
      ],
      "metadata": {
        "id": "lCW0i6MaE4aS"
      },
      "execution_count": null,
      "outputs": []
    },
    {
      "cell_type": "code",
      "source": [
        "jobs = [(1, 5, 500), (2, 3, 400), (3, 3, 1200), (4, 2, 700), (5, 4, 750), (6, 2, 1100)]\n",
        "total_profit = job_schedule_deadline(jobs)\n",
        "print(total_profit)"
      ],
      "metadata": {
        "colab": {
          "base_uri": "https://localhost:8080/"
        },
        "id": "0ddfYX1ROtlm",
        "outputId": "99cc1073-c728-4a35-b22e-f7c968ecf0d0"
      },
      "execution_count": null,
      "outputs": [
        {
          "output_type": "stream",
          "name": "stdout",
          "text": [
            "Scheduled jobs: [3, 6, 5, 4, 1]\n",
            "Total profit: 4250\n",
            "4250\n"
          ]
        }
      ]
    },
    {
      "cell_type": "markdown",
      "source": [
        "6. matrix chain"
      ],
      "metadata": {
        "id": "Mc2WKXdx3Ugf"
      }
    },
    {
      "cell_type": "code",
      "source": [
        "def matrix_chain_order(p):\n",
        "    n = len(p) - 1\n",
        "    m = [[float('inf')] * n for i in range(n)]\n",
        "    s = [[0] * n for i in range(n)]\n",
        "    for i in range(n):\n",
        "        m[i][i] = 0\n",
        "    for l in range(2, n + 1):\n",
        "        for i in range(n - l + 1):\n",
        "            j = i + l - 1\n",
        "            for k in range(i, j):\n",
        "                q = m[i][k] + m[k + 1][j] + p[i] * p[k + 1] * p[j + 1]\n",
        "                if q < m[i][j]:\n",
        "                    m[i][j] = q\n",
        "                    s[i][j] = k\n",
        "    return m, s\n",
        "\n",
        "def print_optimal_parens(s, i, j):\n",
        "    if i == j:\n",
        "        print(f\"A{i}\", end='')\n",
        "    else:\n",
        "        print(\"(\", end='')\n",
        "        print_optimal_parens(s, i, s[i][j])\n",
        "        print_optimal_parens(s, s[i][j] + 1, j)\n",
        "        print(\")\", end='')"
      ],
      "metadata": {
        "id": "tPAUlFZ03UIa"
      },
      "execution_count": 5,
      "outputs": []
    },
    {
      "cell_type": "code",
      "source": [
        "p = [30, 35, 15, 5, 10, 20, 25]\n",
        "\n",
        "m, s = matrix_chain_order(p)\n",
        "\n",
        "print(\"Matrix Chain Order:\")\n",
        "for row in m:\n",
        "    print(row)\n",
        "\n",
        "print(\"Optimal Parenthesization:\")\n",
        "print_optimal_parens(s, 0, len(p) - 2)"
      ],
      "metadata": {
        "colab": {
          "base_uri": "https://localhost:8080/"
        },
        "id": "DEtZWH1x3bVt",
        "outputId": "23583a12-709b-453b-9f4b-c39820e43ece"
      },
      "execution_count": 6,
      "outputs": [
        {
          "output_type": "stream",
          "name": "stdout",
          "text": [
            "Matrix Chain Order:\n",
            "[0, 15750, 7875, 9375, 11875, 15125]\n",
            "[inf, 0, 2625, 4375, 7125, 10500]\n",
            "[inf, inf, 0, 750, 2500, 5375]\n",
            "[inf, inf, inf, 0, 1000, 3500]\n",
            "[inf, inf, inf, inf, 0, 5000]\n",
            "[inf, inf, inf, inf, inf, 0]\n",
            "Optimal Parenthesization:\n",
            "((A0(A1A2))((A3A4)A5))"
          ]
        }
      ]
    },
    {
      "cell_type": "markdown",
      "source": [
        "7. Minimum spanning tree graph problem using kruskal"
      ],
      "metadata": {
        "id": "H-r1thX44X8R"
      }
    },
    {
      "cell_type": "code",
      "source": [
        "def find(parent, i):\n",
        "    if parent[i] == i:\n",
        "        return i\n",
        "    return find(parent, parent[i])\n",
        "\n",
        "def union(parent, rank, x, y):\n",
        "    x_root = find(parent, x)\n",
        "    y_root = find(parent, y)\n",
        "    if rank[x_root] < rank[y_root]:\n",
        "        parent[x_root] = y_root\n",
        "    elif rank[x_root] > rank[y_root]:\n",
        "        parent[y_root] = x_root\n",
        "    else:\n",
        "        parent[y_root] = x_root\n",
        "        rank[x_root] += 1\n",
        "\n",
        "def kruskal(graph):\n",
        "    result = []\n",
        "    parent = []\n",
        "    rank = []\n",
        "    for node in range(len(graph)):\n",
        "        parent.append(node)\n",
        "        rank.append(0)\n",
        "    edges = sorted(graph, key=lambda edge: edge[2])\n",
        "    for edge in edges:\n",
        "        x, y, weight = edge\n",
        "        x_root = find(parent, x)\n",
        "        y_root = find(parent, y)\n",
        "        if x_root != y_root:\n",
        "            result.append(edge)\n",
        "            union(parent, rank, x_root, y_root)\n",
        "    return result"
      ],
      "metadata": {
        "id": "OdUAIeEk4h1t"
      },
      "execution_count": 7,
      "outputs": []
    },
    {
      "cell_type": "code",
      "source": [
        "graph = [(0, 1, 2), (0, 2, 3), (1, 2, 1), (1, 3, 1), (2, 4, 4), (3, 4, 2), (3, 5, 3)]\n",
        "mst = kruskal(graph)\n",
        "for edge in mst:\n",
        "    print(edge)"
      ],
      "metadata": {
        "colab": {
          "base_uri": "https://localhost:8080/"
        },
        "id": "pU0X_ddh7A1e",
        "outputId": "5205cb2a-79d5-4db5-cfbd-d4a10c3943ee"
      },
      "execution_count": 8,
      "outputs": [
        {
          "output_type": "stream",
          "name": "stdout",
          "text": [
            "(1, 2, 1)\n",
            "(1, 3, 1)\n",
            "(0, 1, 2)\n",
            "(3, 4, 2)\n",
            "(3, 5, 3)\n"
          ]
        }
      ]
    },
    {
      "cell_type": "markdown",
      "source": [
        "8. minimum spanning tree graph problem using prims"
      ],
      "metadata": {
        "id": "4mtzx-Kk82OL"
      }
    },
    {
      "cell_type": "code",
      "source": [
        "import heapq\n",
        "\n",
        "def prim(graph, start):\n",
        "    mst = []\n",
        "    visited = set([start])\n",
        "    edges = [\n",
        "        (cost, start, to)\n",
        "        for to, cost in graph[start].items()\n",
        "    ]\n",
        "    heapq.heapify(edges)\n",
        "\n",
        "    while edges:\n",
        "        cost, frm, to = heapq.heappop(edges)\n",
        "        if to not in visited:\n",
        "            visited.add(to)\n",
        "            mst.append((frm, to, cost))\n",
        "            for to_next, cost in graph[to].items():\n",
        "                if to_next not in visited:\n",
        "                    heapq.heappush(edges, (cost, to, to_next))\n",
        "\n",
        "    return mst"
      ],
      "metadata": {
        "id": "6aX1yHtd9AO6"
      },
      "execution_count": 16,
      "outputs": []
    },
    {
      "cell_type": "code",
      "source": [
        "graph = {\n",
        "    'A': {'B': 2, 'D': 6},\n",
        "    'B': {'A': 2, 'C': 3},\n",
        "    'C': {'B': 3, 'D': 8, 'E': 5},\n",
        "    'D': {'A': 6, 'C': 8, 'E': 9},\n",
        "    'E': {'C': 5, 'D': 9},\n",
        "}\n",
        "\n",
        "mst = prim(graph, 'A')\n",
        "print(mst)"
      ],
      "metadata": {
        "colab": {
          "base_uri": "https://localhost:8080/"
        },
        "id": "ibbAOzi-9K1X",
        "outputId": "1637bc33-12d8-453c-bd3c-196b9cc5764b"
      },
      "execution_count": 17,
      "outputs": [
        {
          "output_type": "stream",
          "name": "stdout",
          "text": [
            "[('A', 'B', 2), ('B', 'C', 3), ('C', 'E', 5), ('A', 'D', 6)]\n"
          ]
        }
      ]
    },
    {
      "cell_type": "markdown",
      "source": [
        "9. write naive algorithm for string matching"
      ],
      "metadata": {
        "id": "F3H0F4pn-QyA"
      }
    },
    {
      "cell_type": "code",
      "source": [
        "def naive_string_match(text, pattern):\n",
        "    n = len(text)\n",
        "    m = len(pattern)\n",
        "    positions = []\n",
        "    for i in range(n - m + 1):\n",
        "        j = 0\n",
        "        while j < m and text[i + j] == pattern[j]:\n",
        "            j += 1\n",
        "        if j == m:\n",
        "            positions.append(i)\n",
        "    return positions"
      ],
      "metadata": {
        "id": "T5hLjMNc-U0d"
      },
      "execution_count": 20,
      "outputs": []
    },
    {
      "cell_type": "code",
      "source": [
        "seq = \"ATGCCAATGCCAATTGCAATTGCA\"\n",
        "target = \"AATTGCA\"\n",
        "index = naive_string_match(seq, target)\n",
        "print(\"Target sequence found at position\", index)"
      ],
      "metadata": {
        "colab": {
          "base_uri": "https://localhost:8080/"
        },
        "id": "f_YRge5A-X71",
        "outputId": "dbc64621-9430-4dda-ca72-60101b901c13"
      },
      "execution_count": 24,
      "outputs": [
        {
          "output_type": "stream",
          "name": "stdout",
          "text": [
            "Target sequence found at position [11, 17]\n"
          ]
        }
      ]
    },
    {
      "cell_type": "markdown",
      "source": [
        "10. Apply KMP algo"
      ],
      "metadata": {
        "id": "gJlzuoRz1_tT"
      }
    },
    {
      "cell_type": "code",
      "source": [
        "def kmp_table(pattern):\n",
        "    m = len(pattern)\n",
        "    table = [0] * m\n",
        "    i, j = 0, 1\n",
        "    while j < m:\n",
        "        if pattern[i] == pattern[j]:\n",
        "            table[j] = i + 1\n",
        "            i += 1\n",
        "            j += 1\n",
        "        elif i > 0:\n",
        "            i = table[i - 1]\n",
        "        else:\n",
        "            j += 1\n",
        "    return table\n",
        "\n",
        "def kmp_match(text, pattern):\n",
        "    n = len(text)\n",
        "    m = len(pattern)\n",
        "    if m == 0:\n",
        "        return list(range(n))\n",
        "    if n < m:\n",
        "        return []\n",
        "    table = kmp_table(pattern)\n",
        "    positions = []\n",
        "    i, j = 0, 0\n",
        "    while i < n:\n",
        "        if text[i] == pattern[j]:\n",
        "            i += 1\n",
        "            j += 1\n",
        "            if j == m:\n",
        "                positions.append(i - j)\n",
        "                j = table[j - 1]\n",
        "        elif j > 0:\n",
        "            j = table[j - 1]\n",
        "        else:\n",
        "            i += 1\n",
        "    return positions\n"
      ],
      "metadata": {
        "id": "q9GUhvmUbu9Q"
      },
      "execution_count": 25,
      "outputs": []
    },
    {
      "cell_type": "code",
      "source": [
        "seq = \"ATGCCAATGCCAATTGCAATTGCA\"\n",
        "target = \"AATTGCA\"\n",
        "index = kmp_match(seq, target)\n",
        "print(\"Target sequence found at position\", index)"
      ],
      "metadata": {
        "colab": {
          "base_uri": "https://localhost:8080/"
        },
        "id": "Ny8TY9SgcgQS",
        "outputId": "3c332294-538a-4090-e7fc-1c21b3d668ec"
      },
      "execution_count": 27,
      "outputs": [
        {
          "output_type": "stream",
          "name": "stdout",
          "text": [
            "Target sequence found at position [11, 17]\n"
          ]
        }
      ]
    },
    {
      "cell_type": "markdown",
      "source": [
        "11. implement power sum problem using recursion"
      ],
      "metadata": {
        "id": "7X8X5ARC_vCh"
      }
    },
    {
      "cell_type": "code",
      "source": [
        "def power_sum(X, N, num=1):\n",
        "    if X == 0:\n",
        "        return 1\n",
        "    if num**N > X:\n",
        "        return 0\n",
        "    return power_sum(X-num**N, N, num+1) + power_sum(X, N, num+1)\n"
      ],
      "metadata": {
        "id": "uXGTZ7ec_ocM"
      },
      "execution_count": 28,
      "outputs": []
    },
    {
      "cell_type": "code",
      "source": [
        "x = 10\n",
        "n = 2\n",
        "result = power_sum(x, n)\n",
        "print(\"The number of ways to represent\", x, \"as the sum of\", n, \"positive integers raised to\", n, \"is\", result)"
      ],
      "metadata": {
        "colab": {
          "base_uri": "https://localhost:8080/"
        },
        "id": "C3nMJvZ5AFhd",
        "outputId": "9c91be14-3043-493b-9586-59a0ee248fb9"
      },
      "execution_count": 29,
      "outputs": [
        {
          "output_type": "stream",
          "name": "stdout",
          "text": [
            "The number of ways to represent 10 as the sum of 2 positive integers raised to 2 is 1\n"
          ]
        }
      ]
    },
    {
      "cell_type": "markdown",
      "source": [
        "12. Implement Dijkstra algo"
      ],
      "metadata": {
        "id": "YaJUgbzRAM3h"
      }
    },
    {
      "cell_type": "code",
      "source": [
        "import heapq\n",
        "\n",
        "def dijkstra(graph, start):\n",
        "    distances = {node: float('inf') for node in graph}\n",
        "    distances[start] = 0\n",
        "    pq = [(0, start)]\n",
        "    visited = set()\n",
        "\n",
        "    while pq:\n",
        "        current_distance, current_node = heapq.heappop(pq)\n",
        "        if current_node in visited:\n",
        "            continue\n",
        "        visited.add(current_node)\n",
        "\n",
        "        for neighbor, weight in graph[current_node].items():\n",
        "            distance = current_distance + weight\n",
        "            if distance < distances[neighbor]:\n",
        "                distances[neighbor] = distance\n",
        "                heapq.heappush(pq, (distance, neighbor))\n",
        "\n",
        "    return distances"
      ],
      "metadata": {
        "id": "jJW-AxJcAII7"
      },
      "execution_count": 30,
      "outputs": []
    },
    {
      "cell_type": "code",
      "source": [
        "graph = {\n",
        "    'A': {'B': 2, 'C': 5},\n",
        "    'B': {'A': 2, 'D': 3},\n",
        "    'C': {'A': 5, 'D': 1, 'E': 6},\n",
        "    'D': {'B': 3, 'C': 1, 'E': 2},\n",
        "    'E': {'C': 6, 'D': 2}\n",
        "}\n",
        "start = 'A'\n",
        "distances = dijkstra(graph, start)\n",
        "print(distances)"
      ],
      "metadata": {
        "colab": {
          "base_uri": "https://localhost:8080/"
        },
        "id": "uRjtmP_OAc2c",
        "outputId": "cf22cb93-9081-4369-8896-0ba193fa5021"
      },
      "execution_count": 31,
      "outputs": [
        {
          "output_type": "stream",
          "name": "stdout",
          "text": [
            "{'A': 0, 'B': 2, 'C': 5, 'D': 5, 'E': 7}\n"
          ]
        }
      ]
    },
    {
      "cell_type": "markdown",
      "source": [
        "13. Implement BFS algo"
      ],
      "metadata": {
        "id": "w0HEUDe8AlA6"
      }
    },
    {
      "cell_type": "code",
      "source": [
        "from collections import deque\n",
        "\n",
        "def bfs(graph, start):\n",
        "    visited = set()\n",
        "    queue = deque([start])\n",
        "    visited.add(start)\n",
        "\n",
        "    while queue:\n",
        "        node = queue.popleft()\n",
        "        print(node, end=\" \")\n",
        "\n",
        "        for neighbor in graph[node]:\n",
        "            if neighbor not in visited:\n",
        "                visited.add(neighbor)\n",
        "                queue.append(neighbor)\n"
      ],
      "metadata": {
        "id": "gTZBmy--Ai8_"
      },
      "execution_count": 32,
      "outputs": []
    },
    {
      "cell_type": "code",
      "source": [
        "graph = {\n",
        "    'A': ['B', 'C'],\n",
        "    'B': ['D', 'E'],\n",
        "    'C': ['F'],\n",
        "    'D': [],\n",
        "    'E': ['F'],\n",
        "    'F': []\n",
        "}\n",
        "\n",
        "print(\"BFS Traversal:\")\n",
        "bfs(graph, 'A')"
      ],
      "metadata": {
        "colab": {
          "base_uri": "https://localhost:8080/"
        },
        "id": "WGoFiIuZAvSt",
        "outputId": "1c862c41-1fdd-4e0d-b0af-d702fae6060c"
      },
      "execution_count": 33,
      "outputs": [
        {
          "output_type": "stream",
          "name": "stdout",
          "text": [
            "BFS Traversal:\n",
            "A B C D E F "
          ]
        }
      ]
    }
  ]
}